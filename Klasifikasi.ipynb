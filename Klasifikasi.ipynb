{
  "cells": [
    {
      "cell_type": "markdown",
      "metadata": {
        "id": "RgsAAnjOF_-s"
      },
      "source": [
        "# Data Understanding"
      ]
    },
    {
      "cell_type": "code",
      "execution_count": 5,
      "metadata": {
        "id": "H1drqBMxida7"
      },
      "outputs": [],
      "source": [
        "import pandas as pd\n",
        "import numpy as np\n",
        "import matplotlib.pyplot as plt\n",
        "%matplotlib inline\n",
        "import seaborn as sns\n",
        "from sklearn.model_selection import GridSearchCV, cross_val_score\n",
        "from sklearn.preprocessing import StandardScaler\n",
        "from sklearn.ensemble import RandomForestClassifier, VotingClassifier\n",
        "from sklearn.tree import DecisionTreeClassifier\n",
        "from sklearn.svm import SVC\n",
        "from sklearn.neighbors import KNeighborsClassifier\n",
        "from sklearn.linear_model import LogisticRegression\n",
        "from sklearn.model_selection import train_test_split\n",
        "from sklearn.naive_bayes import GaussianNB\n",
        "from sklearn.metrics import accuracy_score, confusion_matrix, classification_report\n",
        "from lightgbm import LGBMClassifier\n",
        "from sklearn.ensemble import AdaBoostClassifier, GradientBoostingClassifier\n",
        "import joblib\n",
        "import warnings\n",
        "warnings.filterwarnings('ignore')\n"
      ]
    },
    {
      "cell_type": "code",
      "execution_count": 6,
      "metadata": {
        "colab": {
          "base_uri": "https://localhost:8080/",
          "height": 595
        },
        "id": "51IviEzJFXc0",
        "outputId": "7ef17361-412c-4d89-c1c1-70eb5d588800"
      },
      "outputs": [
        {
          "name": "stdout",
          "output_type": "stream",
          "text": [
            "<class 'pandas.core.frame.DataFrame'>\n",
            "RangeIndex: 768 entries, 0 to 767\n",
            "Data columns (total 9 columns):\n",
            " #   Column                    Non-Null Count  Dtype  \n",
            "---  ------                    --------------  -----  \n",
            " 0   Pregnancies               768 non-null    int64  \n",
            " 1   Glucose                   768 non-null    int64  \n",
            " 2   BloodPressure             768 non-null    int64  \n",
            " 3   SkinThickness             768 non-null    int64  \n",
            " 4   Insulin                   768 non-null    int64  \n",
            " 5   BMI                       768 non-null    float64\n",
            " 6   DiabetesPedigreeFunction  768 non-null    float64\n",
            " 7   Age                       768 non-null    int64  \n",
            " 8   Outcome                   768 non-null    int64  \n",
            "dtypes: float64(2), int64(7)\n",
            "memory usage: 54.1 KB\n"
          ]
        },
        {
          "data": {
            "text/html": [
              "<div>\n",
              "<style scoped>\n",
              "    .dataframe tbody tr th:only-of-type {\n",
              "        vertical-align: middle;\n",
              "    }\n",
              "\n",
              "    .dataframe tbody tr th {\n",
              "        vertical-align: top;\n",
              "    }\n",
              "\n",
              "    .dataframe thead th {\n",
              "        text-align: right;\n",
              "    }\n",
              "</style>\n",
              "<table border=\"1\" class=\"dataframe\">\n",
              "  <thead>\n",
              "    <tr style=\"text-align: right;\">\n",
              "      <th></th>\n",
              "      <th>Pregnancies</th>\n",
              "      <th>Glucose</th>\n",
              "      <th>BloodPressure</th>\n",
              "      <th>SkinThickness</th>\n",
              "      <th>Insulin</th>\n",
              "      <th>BMI</th>\n",
              "      <th>DiabetesPedigreeFunction</th>\n",
              "      <th>Age</th>\n",
              "      <th>Outcome</th>\n",
              "    </tr>\n",
              "  </thead>\n",
              "  <tbody>\n",
              "    <tr>\n",
              "      <th>count</th>\n",
              "      <td>768.000000</td>\n",
              "      <td>768.000000</td>\n",
              "      <td>768.000000</td>\n",
              "      <td>768.000000</td>\n",
              "      <td>768.000000</td>\n",
              "      <td>768.000000</td>\n",
              "      <td>768.000000</td>\n",
              "      <td>768.000000</td>\n",
              "      <td>768.000000</td>\n",
              "    </tr>\n",
              "    <tr>\n",
              "      <th>mean</th>\n",
              "      <td>3.845052</td>\n",
              "      <td>120.894531</td>\n",
              "      <td>69.105469</td>\n",
              "      <td>20.536458</td>\n",
              "      <td>79.799479</td>\n",
              "      <td>31.992578</td>\n",
              "      <td>0.471876</td>\n",
              "      <td>33.240885</td>\n",
              "      <td>0.348958</td>\n",
              "    </tr>\n",
              "    <tr>\n",
              "      <th>std</th>\n",
              "      <td>3.369578</td>\n",
              "      <td>31.972618</td>\n",
              "      <td>19.355807</td>\n",
              "      <td>15.952218</td>\n",
              "      <td>115.244002</td>\n",
              "      <td>7.884160</td>\n",
              "      <td>0.331329</td>\n",
              "      <td>11.760232</td>\n",
              "      <td>0.476951</td>\n",
              "    </tr>\n",
              "    <tr>\n",
              "      <th>min</th>\n",
              "      <td>0.000000</td>\n",
              "      <td>0.000000</td>\n",
              "      <td>0.000000</td>\n",
              "      <td>0.000000</td>\n",
              "      <td>0.000000</td>\n",
              "      <td>0.000000</td>\n",
              "      <td>0.078000</td>\n",
              "      <td>21.000000</td>\n",
              "      <td>0.000000</td>\n",
              "    </tr>\n",
              "    <tr>\n",
              "      <th>25%</th>\n",
              "      <td>1.000000</td>\n",
              "      <td>99.000000</td>\n",
              "      <td>62.000000</td>\n",
              "      <td>0.000000</td>\n",
              "      <td>0.000000</td>\n",
              "      <td>27.300000</td>\n",
              "      <td>0.243750</td>\n",
              "      <td>24.000000</td>\n",
              "      <td>0.000000</td>\n",
              "    </tr>\n",
              "    <tr>\n",
              "      <th>50%</th>\n",
              "      <td>3.000000</td>\n",
              "      <td>117.000000</td>\n",
              "      <td>72.000000</td>\n",
              "      <td>23.000000</td>\n",
              "      <td>30.500000</td>\n",
              "      <td>32.000000</td>\n",
              "      <td>0.372500</td>\n",
              "      <td>29.000000</td>\n",
              "      <td>0.000000</td>\n",
              "    </tr>\n",
              "    <tr>\n",
              "      <th>75%</th>\n",
              "      <td>6.000000</td>\n",
              "      <td>140.250000</td>\n",
              "      <td>80.000000</td>\n",
              "      <td>32.000000</td>\n",
              "      <td>127.250000</td>\n",
              "      <td>36.600000</td>\n",
              "      <td>0.626250</td>\n",
              "      <td>41.000000</td>\n",
              "      <td>1.000000</td>\n",
              "    </tr>\n",
              "    <tr>\n",
              "      <th>max</th>\n",
              "      <td>17.000000</td>\n",
              "      <td>199.000000</td>\n",
              "      <td>122.000000</td>\n",
              "      <td>99.000000</td>\n",
              "      <td>846.000000</td>\n",
              "      <td>67.100000</td>\n",
              "      <td>2.420000</td>\n",
              "      <td>81.000000</td>\n",
              "      <td>1.000000</td>\n",
              "    </tr>\n",
              "  </tbody>\n",
              "</table>\n",
              "</div>"
            ],
            "text/plain": [
              "       Pregnancies     Glucose  BloodPressure  SkinThickness     Insulin  \\\n",
              "count   768.000000  768.000000     768.000000     768.000000  768.000000   \n",
              "mean      3.845052  120.894531      69.105469      20.536458   79.799479   \n",
              "std       3.369578   31.972618      19.355807      15.952218  115.244002   \n",
              "min       0.000000    0.000000       0.000000       0.000000    0.000000   \n",
              "25%       1.000000   99.000000      62.000000       0.000000    0.000000   \n",
              "50%       3.000000  117.000000      72.000000      23.000000   30.500000   \n",
              "75%       6.000000  140.250000      80.000000      32.000000  127.250000   \n",
              "max      17.000000  199.000000     122.000000      99.000000  846.000000   \n",
              "\n",
              "              BMI  DiabetesPedigreeFunction         Age     Outcome  \n",
              "count  768.000000                768.000000  768.000000  768.000000  \n",
              "mean    31.992578                  0.471876   33.240885    0.348958  \n",
              "std      7.884160                  0.331329   11.760232    0.476951  \n",
              "min      0.000000                  0.078000   21.000000    0.000000  \n",
              "25%     27.300000                  0.243750   24.000000    0.000000  \n",
              "50%     32.000000                  0.372500   29.000000    0.000000  \n",
              "75%     36.600000                  0.626250   41.000000    1.000000  \n",
              "max     67.100000                  2.420000   81.000000    1.000000  "
            ]
          },
          "execution_count": 6,
          "metadata": {},
          "output_type": "execute_result"
        }
      ],
      "source": [
        "df = pd.read_csv('diabetes.csv')\n",
        "df.head()\n",
        "df.info()\n",
        "df.describe()"
      ]
    },
    {
      "cell_type": "markdown",
      "metadata": {
        "id": "5EDQeFUAXzLL"
      },
      "source": [
        "**Tampilkan 5 data pertama dengan styling**"
      ]
    },
    {
      "cell_type": "code",
      "execution_count": 7,
      "metadata": {
        "colab": {
          "base_uri": "https://localhost:8080/",
          "height": 230
        },
        "id": "ZJcScm9-dUD_",
        "outputId": "9e43ee8b-5378-4fd2-e815-6b1571d75124"
      },
      "outputs": [
        {
          "data": {
            "text/html": [
              "<style type=\"text/css\">\n",
              "#T_670f6 th {\n",
              "  color: white;\n",
              "  background-color: #333333;\n",
              "}\n",
              "#T_670f6_row0_col0, #T_670f6_row0_col1, #T_670f6_row0_col2, #T_670f6_row0_col3, #T_670f6_row0_col4, #T_670f6_row0_col5, #T_670f6_row0_col6, #T_670f6_row0_col7, #T_670f6_row0_col8, #T_670f6_row1_col0, #T_670f6_row1_col1, #T_670f6_row1_col2, #T_670f6_row1_col3, #T_670f6_row1_col4, #T_670f6_row1_col5, #T_670f6_row1_col6, #T_670f6_row1_col7, #T_670f6_row1_col8, #T_670f6_row2_col0, #T_670f6_row2_col1, #T_670f6_row2_col2, #T_670f6_row2_col3, #T_670f6_row2_col4, #T_670f6_row2_col5, #T_670f6_row2_col6, #T_670f6_row2_col7, #T_670f6_row2_col8, #T_670f6_row3_col0, #T_670f6_row3_col1, #T_670f6_row3_col2, #T_670f6_row3_col3, #T_670f6_row3_col4, #T_670f6_row3_col5, #T_670f6_row3_col6, #T_670f6_row3_col7, #T_670f6_row3_col8, #T_670f6_row4_col0, #T_670f6_row4_col1, #T_670f6_row4_col2, #T_670f6_row4_col3, #T_670f6_row4_col4, #T_670f6_row4_col5, #T_670f6_row4_col6, #T_670f6_row4_col7, #T_670f6_row4_col8 {\n",
              "  background-color: #254E58;\n",
              "  color: #e9c46a;\n",
              "  border: 1.5px solid black;\n",
              "}\n",
              "</style>\n",
              "<table id=\"T_670f6\">\n",
              "  <thead>\n",
              "    <tr>\n",
              "      <th class=\"blank level0\" >&nbsp;</th>\n",
              "      <th id=\"T_670f6_level0_col0\" class=\"col_heading level0 col0\" >Pregnancies</th>\n",
              "      <th id=\"T_670f6_level0_col1\" class=\"col_heading level0 col1\" >Glucose</th>\n",
              "      <th id=\"T_670f6_level0_col2\" class=\"col_heading level0 col2\" >BloodPressure</th>\n",
              "      <th id=\"T_670f6_level0_col3\" class=\"col_heading level0 col3\" >SkinThickness</th>\n",
              "      <th id=\"T_670f6_level0_col4\" class=\"col_heading level0 col4\" >Insulin</th>\n",
              "      <th id=\"T_670f6_level0_col5\" class=\"col_heading level0 col5\" >BMI</th>\n",
              "      <th id=\"T_670f6_level0_col6\" class=\"col_heading level0 col6\" >DiabetesPedigreeFunction</th>\n",
              "      <th id=\"T_670f6_level0_col7\" class=\"col_heading level0 col7\" >Age</th>\n",
              "      <th id=\"T_670f6_level0_col8\" class=\"col_heading level0 col8\" >Outcome</th>\n",
              "    </tr>\n",
              "  </thead>\n",
              "  <tbody>\n",
              "    <tr>\n",
              "      <th id=\"T_670f6_level0_row0\" class=\"row_heading level0 row0\" >0</th>\n",
              "      <td id=\"T_670f6_row0_col0\" class=\"data row0 col0\" >6</td>\n",
              "      <td id=\"T_670f6_row0_col1\" class=\"data row0 col1\" >148</td>\n",
              "      <td id=\"T_670f6_row0_col2\" class=\"data row0 col2\" >72</td>\n",
              "      <td id=\"T_670f6_row0_col3\" class=\"data row0 col3\" >35</td>\n",
              "      <td id=\"T_670f6_row0_col4\" class=\"data row0 col4\" >0</td>\n",
              "      <td id=\"T_670f6_row0_col5\" class=\"data row0 col5\" >33.600000</td>\n",
              "      <td id=\"T_670f6_row0_col6\" class=\"data row0 col6\" >0.627000</td>\n",
              "      <td id=\"T_670f6_row0_col7\" class=\"data row0 col7\" >50</td>\n",
              "      <td id=\"T_670f6_row0_col8\" class=\"data row0 col8\" >1</td>\n",
              "    </tr>\n",
              "    <tr>\n",
              "      <th id=\"T_670f6_level0_row1\" class=\"row_heading level0 row1\" >1</th>\n",
              "      <td id=\"T_670f6_row1_col0\" class=\"data row1 col0\" >1</td>\n",
              "      <td id=\"T_670f6_row1_col1\" class=\"data row1 col1\" >85</td>\n",
              "      <td id=\"T_670f6_row1_col2\" class=\"data row1 col2\" >66</td>\n",
              "      <td id=\"T_670f6_row1_col3\" class=\"data row1 col3\" >29</td>\n",
              "      <td id=\"T_670f6_row1_col4\" class=\"data row1 col4\" >0</td>\n",
              "      <td id=\"T_670f6_row1_col5\" class=\"data row1 col5\" >26.600000</td>\n",
              "      <td id=\"T_670f6_row1_col6\" class=\"data row1 col6\" >0.351000</td>\n",
              "      <td id=\"T_670f6_row1_col7\" class=\"data row1 col7\" >31</td>\n",
              "      <td id=\"T_670f6_row1_col8\" class=\"data row1 col8\" >0</td>\n",
              "    </tr>\n",
              "    <tr>\n",
              "      <th id=\"T_670f6_level0_row2\" class=\"row_heading level0 row2\" >2</th>\n",
              "      <td id=\"T_670f6_row2_col0\" class=\"data row2 col0\" >8</td>\n",
              "      <td id=\"T_670f6_row2_col1\" class=\"data row2 col1\" >183</td>\n",
              "      <td id=\"T_670f6_row2_col2\" class=\"data row2 col2\" >64</td>\n",
              "      <td id=\"T_670f6_row2_col3\" class=\"data row2 col3\" >0</td>\n",
              "      <td id=\"T_670f6_row2_col4\" class=\"data row2 col4\" >0</td>\n",
              "      <td id=\"T_670f6_row2_col5\" class=\"data row2 col5\" >23.300000</td>\n",
              "      <td id=\"T_670f6_row2_col6\" class=\"data row2 col6\" >0.672000</td>\n",
              "      <td id=\"T_670f6_row2_col7\" class=\"data row2 col7\" >32</td>\n",
              "      <td id=\"T_670f6_row2_col8\" class=\"data row2 col8\" >1</td>\n",
              "    </tr>\n",
              "    <tr>\n",
              "      <th id=\"T_670f6_level0_row3\" class=\"row_heading level0 row3\" >3</th>\n",
              "      <td id=\"T_670f6_row3_col0\" class=\"data row3 col0\" >1</td>\n",
              "      <td id=\"T_670f6_row3_col1\" class=\"data row3 col1\" >89</td>\n",
              "      <td id=\"T_670f6_row3_col2\" class=\"data row3 col2\" >66</td>\n",
              "      <td id=\"T_670f6_row3_col3\" class=\"data row3 col3\" >23</td>\n",
              "      <td id=\"T_670f6_row3_col4\" class=\"data row3 col4\" >94</td>\n",
              "      <td id=\"T_670f6_row3_col5\" class=\"data row3 col5\" >28.100000</td>\n",
              "      <td id=\"T_670f6_row3_col6\" class=\"data row3 col6\" >0.167000</td>\n",
              "      <td id=\"T_670f6_row3_col7\" class=\"data row3 col7\" >21</td>\n",
              "      <td id=\"T_670f6_row3_col8\" class=\"data row3 col8\" >0</td>\n",
              "    </tr>\n",
              "    <tr>\n",
              "      <th id=\"T_670f6_level0_row4\" class=\"row_heading level0 row4\" >4</th>\n",
              "      <td id=\"T_670f6_row4_col0\" class=\"data row4 col0\" >0</td>\n",
              "      <td id=\"T_670f6_row4_col1\" class=\"data row4 col1\" >137</td>\n",
              "      <td id=\"T_670f6_row4_col2\" class=\"data row4 col2\" >40</td>\n",
              "      <td id=\"T_670f6_row4_col3\" class=\"data row4 col3\" >35</td>\n",
              "      <td id=\"T_670f6_row4_col4\" class=\"data row4 col4\" >168</td>\n",
              "      <td id=\"T_670f6_row4_col5\" class=\"data row4 col5\" >43.100000</td>\n",
              "      <td id=\"T_670f6_row4_col6\" class=\"data row4 col6\" >2.288000</td>\n",
              "      <td id=\"T_670f6_row4_col7\" class=\"data row4 col7\" >33</td>\n",
              "      <td id=\"T_670f6_row4_col8\" class=\"data row4 col8\" >1</td>\n",
              "    </tr>\n",
              "  </tbody>\n",
              "</table>\n"
            ],
            "text/plain": [
              "<pandas.io.formats.style.Styler at 0x27cafd817f0>"
            ]
          },
          "execution_count": 7,
          "metadata": {},
          "output_type": "execute_result"
        }
      ],
      "source": [
        "styled_df = df.head(5).style\n",
        "\n",
        "# Set background color, text color, and border for the entire DataFrame\n",
        "styled_df.set_properties(**{\"background-color\": \"#254E58\", \"color\": \"#e9c46a\", \"border\": \"1.5px solid black\"})\n",
        "\n",
        "# Modify the color and background color of the table headers (th)\n",
        "styled_df.set_table_styles([\n",
        "    {\"selector\": \"th\", \"props\": [(\"color\", 'white'), (\"background-color\", \"#333333\")]}\n",
        "])"
      ]
    },
    {
      "cell_type": "markdown",
      "metadata": {
        "id": "rs4ybMWxYBHk"
      },
      "source": [
        "**Informasi dasar dataset**"
      ]
    },
    {
      "cell_type": "code",
      "execution_count": 8,
      "metadata": {
        "colab": {
          "base_uri": "https://localhost:8080/"
        },
        "id": "s0s5xQ3ldbY1",
        "outputId": "df40787f-5cf9-43d4-88d3-4cbb85315b8a"
      },
      "outputs": [
        {
          "name": "stdout",
          "output_type": "stream",
          "text": [
            "<class 'pandas.core.frame.DataFrame'>\n",
            "RangeIndex: 768 entries, 0 to 767\n",
            "Data columns (total 9 columns):\n",
            " #   Column                    Non-Null Count  Dtype  \n",
            "---  ------                    --------------  -----  \n",
            " 0   Pregnancies               768 non-null    int64  \n",
            " 1   Glucose                   768 non-null    int64  \n",
            " 2   BloodPressure             768 non-null    int64  \n",
            " 3   SkinThickness             768 non-null    int64  \n",
            " 4   Insulin                   768 non-null    int64  \n",
            " 5   BMI                       768 non-null    float64\n",
            " 6   DiabetesPedigreeFunction  768 non-null    float64\n",
            " 7   Age                       768 non-null    int64  \n",
            " 8   Outcome                   768 non-null    int64  \n",
            "dtypes: float64(2), int64(7)\n",
            "memory usage: 54.1 KB\n"
          ]
        }
      ],
      "source": [
        "df.info()"
      ]
    },
    {
      "cell_type": "markdown",
      "metadata": {
        "id": "-8f4-CjdYJ5D"
      },
      "source": [
        "**Ukuran dataset**"
      ]
    },
    {
      "cell_type": "code",
      "execution_count": 9,
      "metadata": {
        "colab": {
          "base_uri": "https://localhost:8080/"
        },
        "id": "W8JvYqPlde_C",
        "outputId": "ed035e5f-08c0-4284-9eba-f5802f0496d9"
      },
      "outputs": [
        {
          "name": "stdout",
          "output_type": "stream",
          "text": [
            "Number of Rows : 768 \n",
            "Number of Columns : 9\n"
          ]
        }
      ],
      "source": [
        "rows , col =  df.shape\n",
        "print(f\"Number of Rows : {rows} \\nNumber of Columns : {col}\")"
      ]
    },
    {
      "cell_type": "markdown",
      "metadata": {
        "id": "f6p1Au5vYN3_"
      },
      "source": [
        "**Periksa nilai nol**"
      ]
    },
    {
      "cell_type": "code",
      "execution_count": 10,
      "metadata": {
        "colab": {
          "base_uri": "https://localhost:8080/"
        },
        "id": "y2mPAqIndlHF",
        "outputId": "af8b3dd8-f6fe-40a1-ff9c-404b108b009b"
      },
      "outputs": [
        {
          "name": "stdout",
          "output_type": "stream",
          "text": [
            "Jumlah nilai 0 di kolom Glucose: 5\n",
            "Jumlah nilai 0 di kolom BloodPressure: 35\n",
            "Jumlah nilai 0 di kolom SkinThickness: 227\n",
            "Jumlah nilai 0 di kolom Insulin: 374\n",
            "Jumlah nilai 0 di kolom BMI: 11\n"
          ]
        }
      ],
      "source": [
        "column_zero = ['Glucose', 'BloodPressure', 'SkinThickness', 'Insulin', 'BMI']\n",
        "for col in column_zero:\n",
        "    print(f'Jumlah nilai 0 di kolom {col}: {sum(df[col] == 0)}')"
      ]
    },
    {
      "cell_type": "markdown",
      "metadata": {
        "id": "79rC4GiwYTj7"
      },
      "source": [
        "**Statistik deskriptif dengan styling**"
      ]
    },
    {
      "cell_type": "code",
      "execution_count": 11,
      "metadata": {
        "colab": {
          "base_uri": "https://localhost:8080/",
          "height": 338
        },
        "id": "LERtvevjdml1",
        "outputId": "03243470-821d-44b5-b42f-d365b587b92d"
      },
      "outputs": [
        {
          "data": {
            "text/html": [
              "<style type=\"text/css\">\n",
              "#T_6200a th {\n",
              "  background-color: #254E58;\n",
              "  color: white;\n",
              "  font-weight: bold;\n",
              "  text-align: left;\n",
              "  padding: 8px;\n",
              "}\n",
              "#T_6200a td {\n",
              "  padding: 8px;\n",
              "  color: #333333;\n",
              "}\n",
              "#T_6200a_row0_col0, #T_6200a_row0_col1, #T_6200a_row0_col2, #T_6200a_row0_col3, #T_6200a_row0_col4, #T_6200a_row0_col5, #T_6200a_row0_col6, #T_6200a_row0_col7, #T_6200a_row0_col8, #T_6200a_row1_col0, #T_6200a_row1_col1, #T_6200a_row1_col2, #T_6200a_row1_col3, #T_6200a_row1_col4, #T_6200a_row1_col5, #T_6200a_row1_col6, #T_6200a_row1_col7, #T_6200a_row1_col8, #T_6200a_row2_col0, #T_6200a_row2_col1, #T_6200a_row2_col2, #T_6200a_row2_col3, #T_6200a_row2_col4, #T_6200a_row2_col5, #T_6200a_row2_col6, #T_6200a_row2_col7, #T_6200a_row2_col8, #T_6200a_row3_col0, #T_6200a_row3_col1, #T_6200a_row3_col2, #T_6200a_row3_col3, #T_6200a_row3_col4, #T_6200a_row3_col5, #T_6200a_row3_col6, #T_6200a_row3_col7, #T_6200a_row3_col8, #T_6200a_row4_col0, #T_6200a_row4_col1, #T_6200a_row4_col2, #T_6200a_row4_col3, #T_6200a_row4_col4, #T_6200a_row4_col5, #T_6200a_row4_col6, #T_6200a_row4_col7, #T_6200a_row4_col8, #T_6200a_row5_col0, #T_6200a_row5_col1, #T_6200a_row5_col2, #T_6200a_row5_col3, #T_6200a_row5_col4, #T_6200a_row5_col5, #T_6200a_row5_col6, #T_6200a_row5_col7, #T_6200a_row5_col8, #T_6200a_row6_col0, #T_6200a_row6_col1, #T_6200a_row6_col2, #T_6200a_row6_col3, #T_6200a_row6_col4, #T_6200a_row6_col5, #T_6200a_row6_col6, #T_6200a_row6_col7, #T_6200a_row6_col8, #T_6200a_row7_col0, #T_6200a_row7_col1, #T_6200a_row7_col2, #T_6200a_row7_col3, #T_6200a_row7_col4, #T_6200a_row7_col5, #T_6200a_row7_col6, #T_6200a_row7_col7, #T_6200a_row7_col8 {\n",
              "  font-size: 14px;\n",
              "  background-color: #F5F5F5;\n",
              "  color: #333333;\n",
              "  border-collapse: collapse;\n",
              "  margin: 10px;\n",
              "}\n",
              "</style>\n",
              "<table id=\"T_6200a\">\n",
              "  <thead>\n",
              "    <tr>\n",
              "      <th class=\"blank level0\" >&nbsp;</th>\n",
              "      <th id=\"T_6200a_level0_col0\" class=\"col_heading level0 col0\" >Pregnancies</th>\n",
              "      <th id=\"T_6200a_level0_col1\" class=\"col_heading level0 col1\" >Glucose</th>\n",
              "      <th id=\"T_6200a_level0_col2\" class=\"col_heading level0 col2\" >BloodPressure</th>\n",
              "      <th id=\"T_6200a_level0_col3\" class=\"col_heading level0 col3\" >SkinThickness</th>\n",
              "      <th id=\"T_6200a_level0_col4\" class=\"col_heading level0 col4\" >Insulin</th>\n",
              "      <th id=\"T_6200a_level0_col5\" class=\"col_heading level0 col5\" >BMI</th>\n",
              "      <th id=\"T_6200a_level0_col6\" class=\"col_heading level0 col6\" >DiabetesPedigreeFunction</th>\n",
              "      <th id=\"T_6200a_level0_col7\" class=\"col_heading level0 col7\" >Age</th>\n",
              "      <th id=\"T_6200a_level0_col8\" class=\"col_heading level0 col8\" >Outcome</th>\n",
              "    </tr>\n",
              "  </thead>\n",
              "  <tbody>\n",
              "    <tr>\n",
              "      <th id=\"T_6200a_level0_row0\" class=\"row_heading level0 row0\" >count</th>\n",
              "      <td id=\"T_6200a_row0_col0\" class=\"data row0 col0\" >768.000000</td>\n",
              "      <td id=\"T_6200a_row0_col1\" class=\"data row0 col1\" >768.000000</td>\n",
              "      <td id=\"T_6200a_row0_col2\" class=\"data row0 col2\" >768.000000</td>\n",
              "      <td id=\"T_6200a_row0_col3\" class=\"data row0 col3\" >768.000000</td>\n",
              "      <td id=\"T_6200a_row0_col4\" class=\"data row0 col4\" >768.000000</td>\n",
              "      <td id=\"T_6200a_row0_col5\" class=\"data row0 col5\" >768.000000</td>\n",
              "      <td id=\"T_6200a_row0_col6\" class=\"data row0 col6\" >768.000000</td>\n",
              "      <td id=\"T_6200a_row0_col7\" class=\"data row0 col7\" >768.000000</td>\n",
              "      <td id=\"T_6200a_row0_col8\" class=\"data row0 col8\" >768.000000</td>\n",
              "    </tr>\n",
              "    <tr>\n",
              "      <th id=\"T_6200a_level0_row1\" class=\"row_heading level0 row1\" >mean</th>\n",
              "      <td id=\"T_6200a_row1_col0\" class=\"data row1 col0\" >3.845052</td>\n",
              "      <td id=\"T_6200a_row1_col1\" class=\"data row1 col1\" >120.894531</td>\n",
              "      <td id=\"T_6200a_row1_col2\" class=\"data row1 col2\" >69.105469</td>\n",
              "      <td id=\"T_6200a_row1_col3\" class=\"data row1 col3\" >20.536458</td>\n",
              "      <td id=\"T_6200a_row1_col4\" class=\"data row1 col4\" >79.799479</td>\n",
              "      <td id=\"T_6200a_row1_col5\" class=\"data row1 col5\" >31.992578</td>\n",
              "      <td id=\"T_6200a_row1_col6\" class=\"data row1 col6\" >0.471876</td>\n",
              "      <td id=\"T_6200a_row1_col7\" class=\"data row1 col7\" >33.240885</td>\n",
              "      <td id=\"T_6200a_row1_col8\" class=\"data row1 col8\" >0.348958</td>\n",
              "    </tr>\n",
              "    <tr>\n",
              "      <th id=\"T_6200a_level0_row2\" class=\"row_heading level0 row2\" >std</th>\n",
              "      <td id=\"T_6200a_row2_col0\" class=\"data row2 col0\" >3.369578</td>\n",
              "      <td id=\"T_6200a_row2_col1\" class=\"data row2 col1\" >31.972618</td>\n",
              "      <td id=\"T_6200a_row2_col2\" class=\"data row2 col2\" >19.355807</td>\n",
              "      <td id=\"T_6200a_row2_col3\" class=\"data row2 col3\" >15.952218</td>\n",
              "      <td id=\"T_6200a_row2_col4\" class=\"data row2 col4\" >115.244002</td>\n",
              "      <td id=\"T_6200a_row2_col5\" class=\"data row2 col5\" >7.884160</td>\n",
              "      <td id=\"T_6200a_row2_col6\" class=\"data row2 col6\" >0.331329</td>\n",
              "      <td id=\"T_6200a_row2_col7\" class=\"data row2 col7\" >11.760232</td>\n",
              "      <td id=\"T_6200a_row2_col8\" class=\"data row2 col8\" >0.476951</td>\n",
              "    </tr>\n",
              "    <tr>\n",
              "      <th id=\"T_6200a_level0_row3\" class=\"row_heading level0 row3\" >min</th>\n",
              "      <td id=\"T_6200a_row3_col0\" class=\"data row3 col0\" >0.000000</td>\n",
              "      <td id=\"T_6200a_row3_col1\" class=\"data row3 col1\" >0.000000</td>\n",
              "      <td id=\"T_6200a_row3_col2\" class=\"data row3 col2\" >0.000000</td>\n",
              "      <td id=\"T_6200a_row3_col3\" class=\"data row3 col3\" >0.000000</td>\n",
              "      <td id=\"T_6200a_row3_col4\" class=\"data row3 col4\" >0.000000</td>\n",
              "      <td id=\"T_6200a_row3_col5\" class=\"data row3 col5\" >0.000000</td>\n",
              "      <td id=\"T_6200a_row3_col6\" class=\"data row3 col6\" >0.078000</td>\n",
              "      <td id=\"T_6200a_row3_col7\" class=\"data row3 col7\" >21.000000</td>\n",
              "      <td id=\"T_6200a_row3_col8\" class=\"data row3 col8\" >0.000000</td>\n",
              "    </tr>\n",
              "    <tr>\n",
              "      <th id=\"T_6200a_level0_row4\" class=\"row_heading level0 row4\" >25%</th>\n",
              "      <td id=\"T_6200a_row4_col0\" class=\"data row4 col0\" >1.000000</td>\n",
              "      <td id=\"T_6200a_row4_col1\" class=\"data row4 col1\" >99.000000</td>\n",
              "      <td id=\"T_6200a_row4_col2\" class=\"data row4 col2\" >62.000000</td>\n",
              "      <td id=\"T_6200a_row4_col3\" class=\"data row4 col3\" >0.000000</td>\n",
              "      <td id=\"T_6200a_row4_col4\" class=\"data row4 col4\" >0.000000</td>\n",
              "      <td id=\"T_6200a_row4_col5\" class=\"data row4 col5\" >27.300000</td>\n",
              "      <td id=\"T_6200a_row4_col6\" class=\"data row4 col6\" >0.243750</td>\n",
              "      <td id=\"T_6200a_row4_col7\" class=\"data row4 col7\" >24.000000</td>\n",
              "      <td id=\"T_6200a_row4_col8\" class=\"data row4 col8\" >0.000000</td>\n",
              "    </tr>\n",
              "    <tr>\n",
              "      <th id=\"T_6200a_level0_row5\" class=\"row_heading level0 row5\" >50%</th>\n",
              "      <td id=\"T_6200a_row5_col0\" class=\"data row5 col0\" >3.000000</td>\n",
              "      <td id=\"T_6200a_row5_col1\" class=\"data row5 col1\" >117.000000</td>\n",
              "      <td id=\"T_6200a_row5_col2\" class=\"data row5 col2\" >72.000000</td>\n",
              "      <td id=\"T_6200a_row5_col3\" class=\"data row5 col3\" >23.000000</td>\n",
              "      <td id=\"T_6200a_row5_col4\" class=\"data row5 col4\" >30.500000</td>\n",
              "      <td id=\"T_6200a_row5_col5\" class=\"data row5 col5\" >32.000000</td>\n",
              "      <td id=\"T_6200a_row5_col6\" class=\"data row5 col6\" >0.372500</td>\n",
              "      <td id=\"T_6200a_row5_col7\" class=\"data row5 col7\" >29.000000</td>\n",
              "      <td id=\"T_6200a_row5_col8\" class=\"data row5 col8\" >0.000000</td>\n",
              "    </tr>\n",
              "    <tr>\n",
              "      <th id=\"T_6200a_level0_row6\" class=\"row_heading level0 row6\" >75%</th>\n",
              "      <td id=\"T_6200a_row6_col0\" class=\"data row6 col0\" >6.000000</td>\n",
              "      <td id=\"T_6200a_row6_col1\" class=\"data row6 col1\" >140.250000</td>\n",
              "      <td id=\"T_6200a_row6_col2\" class=\"data row6 col2\" >80.000000</td>\n",
              "      <td id=\"T_6200a_row6_col3\" class=\"data row6 col3\" >32.000000</td>\n",
              "      <td id=\"T_6200a_row6_col4\" class=\"data row6 col4\" >127.250000</td>\n",
              "      <td id=\"T_6200a_row6_col5\" class=\"data row6 col5\" >36.600000</td>\n",
              "      <td id=\"T_6200a_row6_col6\" class=\"data row6 col6\" >0.626250</td>\n",
              "      <td id=\"T_6200a_row6_col7\" class=\"data row6 col7\" >41.000000</td>\n",
              "      <td id=\"T_6200a_row6_col8\" class=\"data row6 col8\" >1.000000</td>\n",
              "    </tr>\n",
              "    <tr>\n",
              "      <th id=\"T_6200a_level0_row7\" class=\"row_heading level0 row7\" >max</th>\n",
              "      <td id=\"T_6200a_row7_col0\" class=\"data row7 col0\" >17.000000</td>\n",
              "      <td id=\"T_6200a_row7_col1\" class=\"data row7 col1\" >199.000000</td>\n",
              "      <td id=\"T_6200a_row7_col2\" class=\"data row7 col2\" >122.000000</td>\n",
              "      <td id=\"T_6200a_row7_col3\" class=\"data row7 col3\" >99.000000</td>\n",
              "      <td id=\"T_6200a_row7_col4\" class=\"data row7 col4\" >846.000000</td>\n",
              "      <td id=\"T_6200a_row7_col5\" class=\"data row7 col5\" >67.100000</td>\n",
              "      <td id=\"T_6200a_row7_col6\" class=\"data row7 col6\" >2.420000</td>\n",
              "      <td id=\"T_6200a_row7_col7\" class=\"data row7 col7\" >81.000000</td>\n",
              "      <td id=\"T_6200a_row7_col8\" class=\"data row7 col8\" >1.000000</td>\n",
              "    </tr>\n",
              "  </tbody>\n",
              "</table>\n"
            ],
            "text/plain": [
              "<pandas.io.formats.style.Styler at 0x27cafcdf250>"
            ]
          },
          "execution_count": 11,
          "metadata": {},
          "output_type": "execute_result"
        }
      ],
      "source": [
        "styled_df = df.describe().style \\\n",
        "    .set_table_styles([\n",
        "        {'selector': 'th', 'props': [\n",
        "            ('background-color', '#254E58'),\n",
        "            ('color', 'white'),\n",
        "            ('font-weight', 'bold'),\n",
        "            ('text-align', 'left'),\n",
        "            ('padding', '8px')]\n",
        "        },\n",
        "        {'selector': 'td', 'props': [\n",
        "            ('padding', '8px'),\n",
        "            ('color', '#333333')]  # warna font sel isi\n",
        "        }\n",
        "    ]) \\\n",
        "    .set_properties(**{\n",
        "        'font-size': '14px',\n",
        "        'background-color': '#F5F5F5',\n",
        "        'color': '#333333',  # warna font default\n",
        "        'border-collapse': 'collapse',\n",
        "        'margin': '10px'\n",
        "    })\n",
        "\n",
        "# Tampilkan styled DataFrame\n",
        "styled_df\n"
      ]
    },
    {
      "cell_type": "markdown",
      "metadata": {
        "id": "GmQUiV7-FWD0"
      },
      "source": []
    },
    {
      "cell_type": "markdown",
      "metadata": {
        "id": "szOaMHUdGTAL"
      },
      "source": [
        "# Data Preparation"
      ]
    },
    {
      "cell_type": "markdown",
      "metadata": {
        "id": "6YfZNw4YGgE9"
      },
      "source": [
        "Ganti 0 dengan NaN"
      ]
    },
    {
      "cell_type": "code",
      "execution_count": 12,
      "metadata": {
        "id": "nk-D8XduGa19"
      },
      "outputs": [],
      "source": [
        "for col in column_zero:\n",
        "    df[col] = df[col].replace(0, np.nan)"
      ]
    },
    {
      "cell_type": "markdown",
      "metadata": {
        "id": "CYG4aOijJRK0"
      },
      "source": [
        "**Cek missing values**"
      ]
    },
    {
      "cell_type": "code",
      "execution_count": 13,
      "metadata": {
        "colab": {
          "base_uri": "https://localhost:8080/"
        },
        "id": "Lw0AC1_uJPAe",
        "outputId": "f923b3a5-003e-4129-fe00-ef3021ab3485"
      },
      "outputs": [
        {
          "name": "stdout",
          "output_type": "stream",
          "text": [
            "Pregnancies                   0\n",
            "Glucose                       5\n",
            "BloodPressure                35\n",
            "SkinThickness               227\n",
            "Insulin                     374\n",
            "BMI                          11\n",
            "DiabetesPedigreeFunction      0\n",
            "Age                           0\n",
            "Outcome                       0\n",
            "dtype: int64\n"
          ]
        }
      ],
      "source": [
        "print(df.isnull().sum())"
      ]
    },
    {
      "cell_type": "markdown",
      "metadata": {
        "id": "CrxeAD8jYfR2"
      },
      "source": [
        "Isi missing value dengan madian kolom"
      ]
    },
    {
      "cell_type": "code",
      "execution_count": 14,
      "metadata": {
        "id": "t_K6jVxeYb9-"
      },
      "outputs": [],
      "source": [
        "df.fillna(df.median(), inplace=True)"
      ]
    },
    {
      "cell_type": "markdown",
      "metadata": {
        "id": "nmWSj4OCnz-4"
      },
      "source": [
        "Pisahkan fitur dan target"
      ]
    },
    {
      "cell_type": "code",
      "execution_count": 15,
      "metadata": {
        "id": "hSkE7YaTn5GG"
      },
      "outputs": [],
      "source": [
        "x = df.drop('Outcome', axis=1)\n",
        "y = df['Outcome']"
      ]
    },
    {
      "cell_type": "markdown",
      "metadata": {
        "id": "SgTQP2IJoXoE"
      },
      "source": [
        "# Modelling"
      ]
    },
    {
      "cell_type": "markdown",
      "metadata": {
        "id": "9x-pOPjVobso"
      },
      "source": [
        "Split data train-test 80:20"
      ]
    },
    {
      "cell_type": "code",
      "execution_count": 16,
      "metadata": {
        "id": "WVvtVm4-oavZ"
      },
      "outputs": [],
      "source": [
        "X_train, X_test,y_train, y_test = train_test_split(x, y, test_size=0.2, random_state=42)"
      ]
    },
    {
      "cell_type": "markdown",
      "metadata": {
        "id": "q1SJmJSepcT_"
      },
      "source": [
        "**Inisialisasi model Naive Bayes**"
      ]
    },
    {
      "cell_type": "code",
      "execution_count": 17,
      "metadata": {
        "id": "NsqVHtLGpeTX"
      },
      "outputs": [],
      "source": [
        "model = GaussianNB()"
      ]
    },
    {
      "cell_type": "markdown",
      "metadata": {
        "id": "YBGY-lR9pkdU"
      },
      "source": [
        "**Latih model**"
      ]
    },
    {
      "cell_type": "code",
      "execution_count": 18,
      "metadata": {
        "colab": {
          "base_uri": "https://localhost:8080/",
          "height": 80
        },
        "id": "aYP4kTB5pl_x",
        "outputId": "cc2b452b-2781-4a5e-c791-2fa4d7dbdfe6"
      },
      "outputs": [
        {
          "data": {
            "text/html": [
              "<style>#sk-container-id-1 {\n",
              "  /* Definition of color scheme common for light and dark mode */\n",
              "  --sklearn-color-text: #000;\n",
              "  --sklearn-color-text-muted: #666;\n",
              "  --sklearn-color-line: gray;\n",
              "  /* Definition of color scheme for unfitted estimators */\n",
              "  --sklearn-color-unfitted-level-0: #fff5e6;\n",
              "  --sklearn-color-unfitted-level-1: #f6e4d2;\n",
              "  --sklearn-color-unfitted-level-2: #ffe0b3;\n",
              "  --sklearn-color-unfitted-level-3: chocolate;\n",
              "  /* Definition of color scheme for fitted estimators */\n",
              "  --sklearn-color-fitted-level-0: #f0f8ff;\n",
              "  --sklearn-color-fitted-level-1: #d4ebff;\n",
              "  --sklearn-color-fitted-level-2: #b3dbfd;\n",
              "  --sklearn-color-fitted-level-3: cornflowerblue;\n",
              "\n",
              "  /* Specific color for light theme */\n",
              "  --sklearn-color-text-on-default-background: var(--sg-text-color, var(--theme-code-foreground, var(--jp-content-font-color1, black)));\n",
              "  --sklearn-color-background: var(--sg-background-color, var(--theme-background, var(--jp-layout-color0, white)));\n",
              "  --sklearn-color-border-box: var(--sg-text-color, var(--theme-code-foreground, var(--jp-content-font-color1, black)));\n",
              "  --sklearn-color-icon: #696969;\n",
              "\n",
              "  @media (prefers-color-scheme: dark) {\n",
              "    /* Redefinition of color scheme for dark theme */\n",
              "    --sklearn-color-text-on-default-background: var(--sg-text-color, var(--theme-code-foreground, var(--jp-content-font-color1, white)));\n",
              "    --sklearn-color-background: var(--sg-background-color, var(--theme-background, var(--jp-layout-color0, #111)));\n",
              "    --sklearn-color-border-box: var(--sg-text-color, var(--theme-code-foreground, var(--jp-content-font-color1, white)));\n",
              "    --sklearn-color-icon: #878787;\n",
              "  }\n",
              "}\n",
              "\n",
              "#sk-container-id-1 {\n",
              "  color: var(--sklearn-color-text);\n",
              "}\n",
              "\n",
              "#sk-container-id-1 pre {\n",
              "  padding: 0;\n",
              "}\n",
              "\n",
              "#sk-container-id-1 input.sk-hidden--visually {\n",
              "  border: 0;\n",
              "  clip: rect(1px 1px 1px 1px);\n",
              "  clip: rect(1px, 1px, 1px, 1px);\n",
              "  height: 1px;\n",
              "  margin: -1px;\n",
              "  overflow: hidden;\n",
              "  padding: 0;\n",
              "  position: absolute;\n",
              "  width: 1px;\n",
              "}\n",
              "\n",
              "#sk-container-id-1 div.sk-dashed-wrapped {\n",
              "  border: 1px dashed var(--sklearn-color-line);\n",
              "  margin: 0 0.4em 0.5em 0.4em;\n",
              "  box-sizing: border-box;\n",
              "  padding-bottom: 0.4em;\n",
              "  background-color: var(--sklearn-color-background);\n",
              "}\n",
              "\n",
              "#sk-container-id-1 div.sk-container {\n",
              "  /* jupyter's `normalize.less` sets `[hidden] { display: none; }`\n",
              "     but bootstrap.min.css set `[hidden] { display: none !important; }`\n",
              "     so we also need the `!important` here to be able to override the\n",
              "     default hidden behavior on the sphinx rendered scikit-learn.org.\n",
              "     See: https://github.com/scikit-learn/scikit-learn/issues/21755 */\n",
              "  display: inline-block !important;\n",
              "  position: relative;\n",
              "}\n",
              "\n",
              "#sk-container-id-1 div.sk-text-repr-fallback {\n",
              "  display: none;\n",
              "}\n",
              "\n",
              "div.sk-parallel-item,\n",
              "div.sk-serial,\n",
              "div.sk-item {\n",
              "  /* draw centered vertical line to link estimators */\n",
              "  background-image: linear-gradient(var(--sklearn-color-text-on-default-background), var(--sklearn-color-text-on-default-background));\n",
              "  background-size: 2px 100%;\n",
              "  background-repeat: no-repeat;\n",
              "  background-position: center center;\n",
              "}\n",
              "\n",
              "/* Parallel-specific style estimator block */\n",
              "\n",
              "#sk-container-id-1 div.sk-parallel-item::after {\n",
              "  content: \"\";\n",
              "  width: 100%;\n",
              "  border-bottom: 2px solid var(--sklearn-color-text-on-default-background);\n",
              "  flex-grow: 1;\n",
              "}\n",
              "\n",
              "#sk-container-id-1 div.sk-parallel {\n",
              "  display: flex;\n",
              "  align-items: stretch;\n",
              "  justify-content: center;\n",
              "  background-color: var(--sklearn-color-background);\n",
              "  position: relative;\n",
              "}\n",
              "\n",
              "#sk-container-id-1 div.sk-parallel-item {\n",
              "  display: flex;\n",
              "  flex-direction: column;\n",
              "}\n",
              "\n",
              "#sk-container-id-1 div.sk-parallel-item:first-child::after {\n",
              "  align-self: flex-end;\n",
              "  width: 50%;\n",
              "}\n",
              "\n",
              "#sk-container-id-1 div.sk-parallel-item:last-child::after {\n",
              "  align-self: flex-start;\n",
              "  width: 50%;\n",
              "}\n",
              "\n",
              "#sk-container-id-1 div.sk-parallel-item:only-child::after {\n",
              "  width: 0;\n",
              "}\n",
              "\n",
              "/* Serial-specific style estimator block */\n",
              "\n",
              "#sk-container-id-1 div.sk-serial {\n",
              "  display: flex;\n",
              "  flex-direction: column;\n",
              "  align-items: center;\n",
              "  background-color: var(--sklearn-color-background);\n",
              "  padding-right: 1em;\n",
              "  padding-left: 1em;\n",
              "}\n",
              "\n",
              "\n",
              "/* Toggleable style: style used for estimator/Pipeline/ColumnTransformer box that is\n",
              "clickable and can be expanded/collapsed.\n",
              "- Pipeline and ColumnTransformer use this feature and define the default style\n",
              "- Estimators will overwrite some part of the style using the `sk-estimator` class\n",
              "*/\n",
              "\n",
              "/* Pipeline and ColumnTransformer style (default) */\n",
              "\n",
              "#sk-container-id-1 div.sk-toggleable {\n",
              "  /* Default theme specific background. It is overwritten whether we have a\n",
              "  specific estimator or a Pipeline/ColumnTransformer */\n",
              "  background-color: var(--sklearn-color-background);\n",
              "}\n",
              "\n",
              "/* Toggleable label */\n",
              "#sk-container-id-1 label.sk-toggleable__label {\n",
              "  cursor: pointer;\n",
              "  display: flex;\n",
              "  width: 100%;\n",
              "  margin-bottom: 0;\n",
              "  padding: 0.5em;\n",
              "  box-sizing: border-box;\n",
              "  text-align: center;\n",
              "  align-items: start;\n",
              "  justify-content: space-between;\n",
              "  gap: 0.5em;\n",
              "}\n",
              "\n",
              "#sk-container-id-1 label.sk-toggleable__label .caption {\n",
              "  font-size: 0.6rem;\n",
              "  font-weight: lighter;\n",
              "  color: var(--sklearn-color-text-muted);\n",
              "}\n",
              "\n",
              "#sk-container-id-1 label.sk-toggleable__label-arrow:before {\n",
              "  /* Arrow on the left of the label */\n",
              "  content: \"▸\";\n",
              "  float: left;\n",
              "  margin-right: 0.25em;\n",
              "  color: var(--sklearn-color-icon);\n",
              "}\n",
              "\n",
              "#sk-container-id-1 label.sk-toggleable__label-arrow:hover:before {\n",
              "  color: var(--sklearn-color-text);\n",
              "}\n",
              "\n",
              "/* Toggleable content - dropdown */\n",
              "\n",
              "#sk-container-id-1 div.sk-toggleable__content {\n",
              "  max-height: 0;\n",
              "  max-width: 0;\n",
              "  overflow: hidden;\n",
              "  text-align: left;\n",
              "  /* unfitted */\n",
              "  background-color: var(--sklearn-color-unfitted-level-0);\n",
              "}\n",
              "\n",
              "#sk-container-id-1 div.sk-toggleable__content.fitted {\n",
              "  /* fitted */\n",
              "  background-color: var(--sklearn-color-fitted-level-0);\n",
              "}\n",
              "\n",
              "#sk-container-id-1 div.sk-toggleable__content pre {\n",
              "  margin: 0.2em;\n",
              "  border-radius: 0.25em;\n",
              "  color: var(--sklearn-color-text);\n",
              "  /* unfitted */\n",
              "  background-color: var(--sklearn-color-unfitted-level-0);\n",
              "}\n",
              "\n",
              "#sk-container-id-1 div.sk-toggleable__content.fitted pre {\n",
              "  /* unfitted */\n",
              "  background-color: var(--sklearn-color-fitted-level-0);\n",
              "}\n",
              "\n",
              "#sk-container-id-1 input.sk-toggleable__control:checked~div.sk-toggleable__content {\n",
              "  /* Expand drop-down */\n",
              "  max-height: 200px;\n",
              "  max-width: 100%;\n",
              "  overflow: auto;\n",
              "}\n",
              "\n",
              "#sk-container-id-1 input.sk-toggleable__control:checked~label.sk-toggleable__label-arrow:before {\n",
              "  content: \"▾\";\n",
              "}\n",
              "\n",
              "/* Pipeline/ColumnTransformer-specific style */\n",
              "\n",
              "#sk-container-id-1 div.sk-label input.sk-toggleable__control:checked~label.sk-toggleable__label {\n",
              "  color: var(--sklearn-color-text);\n",
              "  background-color: var(--sklearn-color-unfitted-level-2);\n",
              "}\n",
              "\n",
              "#sk-container-id-1 div.sk-label.fitted input.sk-toggleable__control:checked~label.sk-toggleable__label {\n",
              "  background-color: var(--sklearn-color-fitted-level-2);\n",
              "}\n",
              "\n",
              "/* Estimator-specific style */\n",
              "\n",
              "/* Colorize estimator box */\n",
              "#sk-container-id-1 div.sk-estimator input.sk-toggleable__control:checked~label.sk-toggleable__label {\n",
              "  /* unfitted */\n",
              "  background-color: var(--sklearn-color-unfitted-level-2);\n",
              "}\n",
              "\n",
              "#sk-container-id-1 div.sk-estimator.fitted input.sk-toggleable__control:checked~label.sk-toggleable__label {\n",
              "  /* fitted */\n",
              "  background-color: var(--sklearn-color-fitted-level-2);\n",
              "}\n",
              "\n",
              "#sk-container-id-1 div.sk-label label.sk-toggleable__label,\n",
              "#sk-container-id-1 div.sk-label label {\n",
              "  /* The background is the default theme color */\n",
              "  color: var(--sklearn-color-text-on-default-background);\n",
              "}\n",
              "\n",
              "/* On hover, darken the color of the background */\n",
              "#sk-container-id-1 div.sk-label:hover label.sk-toggleable__label {\n",
              "  color: var(--sklearn-color-text);\n",
              "  background-color: var(--sklearn-color-unfitted-level-2);\n",
              "}\n",
              "\n",
              "/* Label box, darken color on hover, fitted */\n",
              "#sk-container-id-1 div.sk-label.fitted:hover label.sk-toggleable__label.fitted {\n",
              "  color: var(--sklearn-color-text);\n",
              "  background-color: var(--sklearn-color-fitted-level-2);\n",
              "}\n",
              "\n",
              "/* Estimator label */\n",
              "\n",
              "#sk-container-id-1 div.sk-label label {\n",
              "  font-family: monospace;\n",
              "  font-weight: bold;\n",
              "  display: inline-block;\n",
              "  line-height: 1.2em;\n",
              "}\n",
              "\n",
              "#sk-container-id-1 div.sk-label-container {\n",
              "  text-align: center;\n",
              "}\n",
              "\n",
              "/* Estimator-specific */\n",
              "#sk-container-id-1 div.sk-estimator {\n",
              "  font-family: monospace;\n",
              "  border: 1px dotted var(--sklearn-color-border-box);\n",
              "  border-radius: 0.25em;\n",
              "  box-sizing: border-box;\n",
              "  margin-bottom: 0.5em;\n",
              "  /* unfitted */\n",
              "  background-color: var(--sklearn-color-unfitted-level-0);\n",
              "}\n",
              "\n",
              "#sk-container-id-1 div.sk-estimator.fitted {\n",
              "  /* fitted */\n",
              "  background-color: var(--sklearn-color-fitted-level-0);\n",
              "}\n",
              "\n",
              "/* on hover */\n",
              "#sk-container-id-1 div.sk-estimator:hover {\n",
              "  /* unfitted */\n",
              "  background-color: var(--sklearn-color-unfitted-level-2);\n",
              "}\n",
              "\n",
              "#sk-container-id-1 div.sk-estimator.fitted:hover {\n",
              "  /* fitted */\n",
              "  background-color: var(--sklearn-color-fitted-level-2);\n",
              "}\n",
              "\n",
              "/* Specification for estimator info (e.g. \"i\" and \"?\") */\n",
              "\n",
              "/* Common style for \"i\" and \"?\" */\n",
              "\n",
              ".sk-estimator-doc-link,\n",
              "a:link.sk-estimator-doc-link,\n",
              "a:visited.sk-estimator-doc-link {\n",
              "  float: right;\n",
              "  font-size: smaller;\n",
              "  line-height: 1em;\n",
              "  font-family: monospace;\n",
              "  background-color: var(--sklearn-color-background);\n",
              "  border-radius: 1em;\n",
              "  height: 1em;\n",
              "  width: 1em;\n",
              "  text-decoration: none !important;\n",
              "  margin-left: 0.5em;\n",
              "  text-align: center;\n",
              "  /* unfitted */\n",
              "  border: var(--sklearn-color-unfitted-level-1) 1pt solid;\n",
              "  color: var(--sklearn-color-unfitted-level-1);\n",
              "}\n",
              "\n",
              ".sk-estimator-doc-link.fitted,\n",
              "a:link.sk-estimator-doc-link.fitted,\n",
              "a:visited.sk-estimator-doc-link.fitted {\n",
              "  /* fitted */\n",
              "  border: var(--sklearn-color-fitted-level-1) 1pt solid;\n",
              "  color: var(--sklearn-color-fitted-level-1);\n",
              "}\n",
              "\n",
              "/* On hover */\n",
              "div.sk-estimator:hover .sk-estimator-doc-link:hover,\n",
              ".sk-estimator-doc-link:hover,\n",
              "div.sk-label-container:hover .sk-estimator-doc-link:hover,\n",
              ".sk-estimator-doc-link:hover {\n",
              "  /* unfitted */\n",
              "  background-color: var(--sklearn-color-unfitted-level-3);\n",
              "  color: var(--sklearn-color-background);\n",
              "  text-decoration: none;\n",
              "}\n",
              "\n",
              "div.sk-estimator.fitted:hover .sk-estimator-doc-link.fitted:hover,\n",
              ".sk-estimator-doc-link.fitted:hover,\n",
              "div.sk-label-container:hover .sk-estimator-doc-link.fitted:hover,\n",
              ".sk-estimator-doc-link.fitted:hover {\n",
              "  /* fitted */\n",
              "  background-color: var(--sklearn-color-fitted-level-3);\n",
              "  color: var(--sklearn-color-background);\n",
              "  text-decoration: none;\n",
              "}\n",
              "\n",
              "/* Span, style for the box shown on hovering the info icon */\n",
              ".sk-estimator-doc-link span {\n",
              "  display: none;\n",
              "  z-index: 9999;\n",
              "  position: relative;\n",
              "  font-weight: normal;\n",
              "  right: .2ex;\n",
              "  padding: .5ex;\n",
              "  margin: .5ex;\n",
              "  width: min-content;\n",
              "  min-width: 20ex;\n",
              "  max-width: 50ex;\n",
              "  color: var(--sklearn-color-text);\n",
              "  box-shadow: 2pt 2pt 4pt #999;\n",
              "  /* unfitted */\n",
              "  background: var(--sklearn-color-unfitted-level-0);\n",
              "  border: .5pt solid var(--sklearn-color-unfitted-level-3);\n",
              "}\n",
              "\n",
              ".sk-estimator-doc-link.fitted span {\n",
              "  /* fitted */\n",
              "  background: var(--sklearn-color-fitted-level-0);\n",
              "  border: var(--sklearn-color-fitted-level-3);\n",
              "}\n",
              "\n",
              ".sk-estimator-doc-link:hover span {\n",
              "  display: block;\n",
              "}\n",
              "\n",
              "/* \"?\"-specific style due to the `<a>` HTML tag */\n",
              "\n",
              "#sk-container-id-1 a.estimator_doc_link {\n",
              "  float: right;\n",
              "  font-size: 1rem;\n",
              "  line-height: 1em;\n",
              "  font-family: monospace;\n",
              "  background-color: var(--sklearn-color-background);\n",
              "  border-radius: 1rem;\n",
              "  height: 1rem;\n",
              "  width: 1rem;\n",
              "  text-decoration: none;\n",
              "  /* unfitted */\n",
              "  color: var(--sklearn-color-unfitted-level-1);\n",
              "  border: var(--sklearn-color-unfitted-level-1) 1pt solid;\n",
              "}\n",
              "\n",
              "#sk-container-id-1 a.estimator_doc_link.fitted {\n",
              "  /* fitted */\n",
              "  border: var(--sklearn-color-fitted-level-1) 1pt solid;\n",
              "  color: var(--sklearn-color-fitted-level-1);\n",
              "}\n",
              "\n",
              "/* On hover */\n",
              "#sk-container-id-1 a.estimator_doc_link:hover {\n",
              "  /* unfitted */\n",
              "  background-color: var(--sklearn-color-unfitted-level-3);\n",
              "  color: var(--sklearn-color-background);\n",
              "  text-decoration: none;\n",
              "}\n",
              "\n",
              "#sk-container-id-1 a.estimator_doc_link.fitted:hover {\n",
              "  /* fitted */\n",
              "  background-color: var(--sklearn-color-fitted-level-3);\n",
              "}\n",
              "</style><div id=\"sk-container-id-1\" class=\"sk-top-container\"><div class=\"sk-text-repr-fallback\"><pre>GaussianNB()</pre><b>In a Jupyter environment, please rerun this cell to show the HTML representation or trust the notebook. <br />On GitHub, the HTML representation is unable to render, please try loading this page with nbviewer.org.</b></div><div class=\"sk-container\" hidden><div class=\"sk-item\"><div class=\"sk-estimator fitted sk-toggleable\"><input class=\"sk-toggleable__control sk-hidden--visually\" id=\"sk-estimator-id-1\" type=\"checkbox\" checked><label for=\"sk-estimator-id-1\" class=\"sk-toggleable__label fitted sk-toggleable__label-arrow\"><div><div>GaussianNB</div></div><div><a class=\"sk-estimator-doc-link fitted\" rel=\"noreferrer\" target=\"_blank\" href=\"https://scikit-learn.org/1.6/modules/generated/sklearn.naive_bayes.GaussianNB.html\">?<span>Documentation for GaussianNB</span></a><span class=\"sk-estimator-doc-link fitted\">i<span>Fitted</span></span></div></label><div class=\"sk-toggleable__content fitted\"><pre>GaussianNB()</pre></div> </div></div></div></div>"
            ],
            "text/plain": [
              "GaussianNB()"
            ]
          },
          "execution_count": 18,
          "metadata": {},
          "output_type": "execute_result"
        }
      ],
      "source": [
        "model.fit(X_train, y_train)"
      ]
    },
    {
      "cell_type": "markdown",
      "metadata": {
        "id": "zjHwPgukpx2Q"
      },
      "source": [
        "# Evaluation"
      ]
    },
    {
      "cell_type": "code",
      "execution_count": 19,
      "metadata": {
        "id": "D7xAmR0CJzfe"
      },
      "outputs": [
        {
          "ename": "ModuleNotFoundError",
          "evalue": "No module named 'google.colab'",
          "output_type": "error",
          "traceback": [
            "\u001b[31m---------------------------------------------------------------------------\u001b[39m",
            "\u001b[31mModuleNotFoundError\u001b[39m                       Traceback (most recent call last)",
            "\u001b[36mCell\u001b[39m\u001b[36m \u001b[39m\u001b[32mIn[19]\u001b[39m\u001b[32m, line 1\u001b[39m\n\u001b[32m----> \u001b[39m\u001b[32m1\u001b[39m \u001b[38;5;28;01mfrom\u001b[39;00m\u001b[38;5;250m \u001b[39m\u001b[34;01mgoogle\u001b[39;00m\u001b[34;01m.\u001b[39;00m\u001b[34;01mcolab\u001b[39;00m\u001b[38;5;250m \u001b[39m\u001b[38;5;28;01mimport\u001b[39;00m drive\n\u001b[32m      2\u001b[39m drive.mount(\u001b[33m'\u001b[39m\u001b[33m/content/drive\u001b[39m\u001b[33m'\u001b[39m)\n",
            "\u001b[31mModuleNotFoundError\u001b[39m: No module named 'google.colab'"
          ]
        }
      ],
      "source": [
        "from google.colab import drive\n",
        "drive.mount('/content/drive')"
      ]
    },
    {
      "cell_type": "markdown",
      "metadata": {
        "id": "8oEVo81Cp2UY"
      },
      "source": [
        "**Prediksi data test**"
      ]
    },
    {
      "cell_type": "code",
      "execution_count": null,
      "metadata": {
        "id": "AnKpjHsyqAiX"
      },
      "outputs": [],
      "source": [
        "y_pred = model.predict(X_test)"
      ]
    },
    {
      "cell_type": "markdown",
      "metadata": {
        "id": "_r-alhwTqX1F"
      },
      "source": [
        "**Tampilkan hasil evaluasi**"
      ]
    },
    {
      "cell_type": "code",
      "execution_count": null,
      "metadata": {
        "colab": {
          "base_uri": "https://localhost:8080/"
        },
        "id": "qRKyMuxWqNv7",
        "outputId": "90711b29-ede9-486d-ee85-f4166ae89d94"
      },
      "outputs": [
        {
          "name": "stdout",
          "output_type": "stream",
          "text": [
            "Accuracy: 0.7532467532467533\n",
            "Confusion Matrix:\n",
            " [[79 20]\n",
            " [18 37]]\n",
            "Classification Report\n",
            "               precision    recall  f1-score   support\n",
            "\n",
            "           0       0.81      0.80      0.81        99\n",
            "           1       0.65      0.67      0.66        55\n",
            "\n",
            "    accuracy                           0.75       154\n",
            "   macro avg       0.73      0.74      0.73       154\n",
            "weighted avg       0.76      0.75      0.75       154\n",
            "\n"
          ]
        }
      ],
      "source": [
        "print(\"Accuracy:\", accuracy_score(y_test, y_pred))\n",
        "print(\"Confusion Matrix:\\n\", confusion_matrix(y_test, y_pred))\n",
        "print(\"Classification Report\\n\", classification_report(y_test, y_pred))\n"
      ]
    },
    {
      "cell_type": "markdown",
      "metadata": {
        "id": "bvW4wpqxrfki"
      },
      "source": [
        "**Deployment**"
      ]
    },
    {
      "cell_type": "code",
      "execution_count": null,
      "metadata": {
        "colab": {
          "base_uri": "https://localhost:8080/"
        },
        "id": "QqInbhC1rgNc",
        "outputId": "84b4ef11-2e7b-4313-c61c-463f98672e2e"
      },
      "outputs": [
        {
          "name": "stdout",
          "output_type": "stream",
          "text": [
            "Model tersimpan sebagai 'naive_bayes_model.pkl'\n"
          ]
        }
      ],
      "source": [
        "import joblib\n",
        "\n",
        "# Simpan model ke file\n",
        "joblib.dump(model, 'naive_bayes_diabetes_model.pkl')\n",
        "print(\"Model tersimpan sebagai 'naive_bayes_model.pkl'\")"
      ]
    },
    {
      "cell_type": "code",
      "execution_count": null,
      "metadata": {
        "id": "7hRX8cXLjLeh"
      },
      "outputs": [],
      "source": [
        "import streamlit as st"
      ]
    },
    {
      "cell_type": "code",
      "execution_count": null,
      "metadata": {},
      "outputs": [
        {
          "name": "stdout",
          "output_type": "stream",
          "text": [
            "Overwriting app.py\n"
          ]
        }
      ],
      "source": [
        "%%writefile app.py\n",
        "import streamlit as st\n",
        "import pandas as pd\n",
        "import numpy as np\n",
        "import plotly.graph_objects as go\n",
        "import joblib\n",
        "from sklearn.metrics import roc_curve, auc\n",
        "\n",
        "st.set_page_config(page_title=\"Prediksi Diabetes\", page_icon=\"🩺\", layout=\"wide\")\n",
        "\n",
        "@st.cache_data\n",
        "def load_data():\n",
        "    df = pd.read_csv(\"diabetes.csv\")\n",
        "    return df\n",
        "\n",
        "@st.cache_resource\n",
        "def load_model():\n",
        "    return joblib.load(\"naive_bayes_diabetes_model.pkl\")\n",
        "\n",
        "def plot_roc_curve(model, df):\n",
        "    from sklearn.metrics import roc_curve, auc\n",
        "    import matplotlib.pyplot as plt\n",
        "\n",
        "    X = df[[\"Pregnancies\", \"Glucose\", \"BloodPressure\", \"SkinThickness\", \n",
        "            \"Insulin\", \"BMI\", \"DiabetesPedigreeFunction\", \"Age\"]]\n",
        "    y = df[\"Outcome\"]\n",
        "    \n",
        "    y_prob = model.predict_proba(X)[:, 1]\n",
        "    fpr, tpr, _ = roc_curve(y, y_prob)\n",
        "    roc_auc = auc(fpr, tpr)\n",
        "\n",
        "    fig, ax = plt.subplots()\n",
        "    ax.plot(fpr, tpr, color='darkorange', lw=2, label='ROC curve (area = %0.2f)' % roc_auc)\n",
        "    ax.plot([0, 1], [0, 1], color='navy', lw=2, linestyle='--')\n",
        "    ax.set_xlim([0.0, 1.0])\n",
        "    ax.set_ylim([0.0, 1.05])\n",
        "    ax.set_xlabel('False Positive Rate')\n",
        "    ax.set_ylabel('True Positive Rate')\n",
        "    ax.set_title('Receiver Operating Characteristic')\n",
        "    ax.legend(loc=\"lower right\")\n",
        "    return fig\n",
        "\n",
        "df = load_data()\n",
        "model = load_model()\n",
        "\n",
        "st.title(\"Dashboard Prediksi Diabetes\")\n",
        "st.markdown(\"Prediksi kemungkinan diabetes berdasarkan data medis menggunakan model Naive Bayes.\")\n",
        "\n",
        "col1, col2 = st.columns(2)\n",
        "with col1:\n",
        "    pregnancies = st.slider(\"Pregnancies\", int(df.Pregnancies.min()), int(df.Pregnancies.max()), int(df.Pregnancies.mean()))\n",
        "    glucose = st.slider(\"Glucose\", int(df.Glucose.min()), int(df.Glucose.max()), int(df.Glucose.mean()))\n",
        "    bp = st.slider(\"BloodPressure\", int(df.BloodPressure.min()), int(df.BloodPressure.max()), int(df.BloodPressure.mean()))\n",
        "    skin = st.slider(\"SkinThickness\", int(df.SkinThickness.min()), int(df.SkinThickness.max()), int(df.SkinThickness.mean()))\n",
        "\n",
        "with col2:\n",
        "    insulin = st.slider(\"Insulin\", int(df.Insulin.min()), int(df.Insulin.max()), int(df.Insulin.mean()))\n",
        "    bmi = st.slider(\"BMI\", float(df.BMI.min()), float(df.BMI.max()), float(df.BMI.mean()))\n",
        "    dpf = st.slider(\"DiabetesPedigreeFunction\", float(df.DiabetesPedigreeFunction.min()), float(df.DiabetesPedigreeFunction.max()), float(df.DiabetesPedigreeFunction.mean()))\n",
        "    age = st.slider(\"Age\", int(df.Age.min()), int(df.Age.max()), int(df.Age.mean()))\n",
        "\n",
        "input_df = pd.DataFrame([[\n",
        "    pregnancies, glucose, bp, skin, insulin, bmi, dpf, age\n",
        "]], columns=[\n",
        "    \"Pregnancies\", \"Glucose\", \"BloodPressure\", \"SkinThickness\",\n",
        "    \"Insulin\", \"BMI\", \"DiabetesPedigreeFunction\", \"Age\"\n",
        "])\n",
        "\n",
        "if st.button(\"Prediksi\"):\n",
        "    prediction = model.predict(input_df)[0]\n",
        "    probability = model.predict_proba(input_df)[0]\n",
        "\n",
        "    st.subheader(\"Hasil Prediksi\")\n",
        "    if prediction == 1:\n",
        "        st.error(f\"🩸 Diabetes dengan probabilitas {probability[1]:.2%}\")\n",
        "    else:\n",
        "        st.success(f\"✅ Tidak Diabetes dengan probabilitas {probability[0]:.2%}\")\n",
        "\n",
        "    st.plotly_chart(\n",
        "        go.Figure(data=[go.Bar(x=[\"Tidak Diabetes\", \"Diabetes\"], y=probability, marker_color=['blue', 'red'])])\n",
        "        .update_layout(title=\"Probabilitas Kelas\", yaxis=dict(range=[0,1]))\n",
        "    )\n",
        "\n",
        "    # ✅ Tidak perlu ambil X dan y lagi secara manual\n",
        "    roc_fig = plot_roc_curve(model, df)\n",
        "    st.pyplot(roc_fig)  # Gunakan st.pyplot karena plot_roc_curve menghasilkan matplotlib fig, bukan plotly\n",
        "\n",
        "    # Rekomendasi\n",
        "    st.markdown(\"### Rekomendasi\")\n",
        "    if prediction == 1:\n",
        "        st.markdown(\"- Konsultasi dengan dokter segera.\\n- Pantau kadar gula darah secara rutin.\")\n",
        "    else:\n",
        "        st.markdown(\"- Jaga pola makan sehat.\\n- Lanjutkan gaya hidup aktif.\")\n"
      ]
    },
    {
      "cell_type": "code",
      "execution_count": null,
      "metadata": {},
      "outputs": [
        {
          "name": "stdout",
          "output_type": "stream",
          "text": [
            "NgrokTunnel: \"https://5088-111-95-195-186.ngrok-free.app\" -> \"http://localhost:8501\"\n"
          ]
        }
      ],
      "source": [
        "from pyngrok import ngrok\n",
        "import threading\n",
        "import os\n",
        "def run_streamlit():\n",
        "  os.system(\"streamlit run app.py --server.port 8501\")\n",
        "thread = threading.Thread(target=run_streamlit)\n",
        "thread.start()\n",
        "\n",
        "public_url = ngrok.connect(addr='8501')\n",
        "print(public_url)"
      ]
    }
  ],
  "metadata": {
    "colab": {
      "provenance": []
    },
    "kernelspec": {
      "display_name": "sklearn-env",
      "language": "python",
      "name": "python3"
    },
    "language_info": {
      "codemirror_mode": {
        "name": "ipython",
        "version": 3
      },
      "file_extension": ".py",
      "mimetype": "text/x-python",
      "name": "python",
      "nbconvert_exporter": "python",
      "pygments_lexer": "ipython3",
      "version": "3.13.3"
    }
  },
  "nbformat": 4,
  "nbformat_minor": 0
}
